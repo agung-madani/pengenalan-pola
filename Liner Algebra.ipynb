{
 "cells": [
  {
   "cell_type": "markdown",
   "metadata": {
    "id": "fWNfxp1FO7ZK"
   },
   "source": [
    "Linear Algebra\n",
    "\n",
    "In this section, we are going to learn about vector and matrix representation as well as their operations."
   ]
  },
  {
   "cell_type": "markdown",
   "metadata": {
    "id": "7TRchxlhP20k"
   },
   "source": [
    "### 1.1 Vector, its Length and Direction"
   ]
  },
  {
   "cell_type": "markdown",
   "metadata": {
    "id": "FEQjnSx-PHDL"
   },
   "source": [
    "First, define your vector with positive value in both axes and plot it using the following code. Then, compute the vector magnitude/length and direction using the following equation:\n",
    "\n",
    "$|v| = \\sqrt[2]{v_1^{2} + v_2^{2}}$ \n",
    "\n",
    "$deg = tan^{-1}(v_2/v_1)$"
   ]
  },
  {
   "cell_type": "code",
   "execution_count": 26,
   "metadata": {
    "id": "lSGGk3MVP128"
   },
   "outputs": [
    {
     "data": {
      "image/png": "[encoded data removed]",
      "text/plain": [
       "<Figure size 432x288 with 1 Axes>"
      ]
     },
     "metadata": {
      "needs_background": "light"
     },
     "output_type": "display_data"
    },
    {
     "name": "stdout",
     "output_type": "stream",
     "text": [
      "The vector length is:  5.0\n",
      "The vector direction (inverse tangent) is = 90.0 degree.\n"
     ]
    }
   ],
   "source": [
    "%matplotlib inline\n",
    "\n",
    "import numpy as np\n",
    "import matplotlib.pyplot as plt\n",
    "import math\n",
    "\n",
    "# TODO: By using numpy array, please define your vector.\n",
    "v = \n",
    "\n",
    "# and we'll use a quiver plot to visualize it.\n",
    "origin = [0], [0]\n",
    "plt.axis('equal')\n",
    "plt.grid()\n",
    "plt.ticklabel_format(style='sci', axis='both', scilimits=(0,0))\n",
    "plt.quiver(origin[0], origin[1], v[0], v[1], scale=10, color='r')\n",
    "# plt.quiver(*origin, *v, scale=10, color='r') # Short version\n",
    "plt.show()\n",
    "\n",
    "# TODO: Compute the vector length\n",
    "vMag = \n",
    "print('The vector length is: ', vMag)\n",
    "\n",
    "# TODO: Compute the vector direction\n",
    "vTan = \n",
    "vAtan = math.atan(vTan)\n",
    "# atan returns the angle in radians, so convert to degrees\n",
    "print('The vector direction (inverse tangent) is = ' + str(math.degrees(vAtan)) + ' degree.')"
   ]
  },
  {
   "cell_type": "markdown",
   "metadata": {
    "id": "rgrt7-sqP_sG"
   },
   "source": [
    "### 1.2 Vector and Matrix Operation"
   ]
  },
  {
   "cell_type": "markdown",
   "metadata": {
    "id": "uwGDlnjYRS-t"
   },
   "source": [
    "We are going to experiment with different vector/matrix operation."
   ]
  },
  {
   "cell_type": "markdown",
   "metadata": {
    "id": "mLv75g4kQS8G"
   },
   "source": [
    "#### 1.2.1 Scalar Multiplication"
   ]
  },
  {
   "cell_type": "markdown",
   "metadata": {
    "id": "DLx7oEfPQebM"
   },
   "source": [
    "Given the vector you define in the previous section, multiply your vector with a scalar number (e.g, 2, 3), and re-compute again the vector length/magnitude.\n",
    "\n",
    "**Question**:\n",
    "*   What happen when you multiply with a negative scalar number? "
   ]
  },
  {
   "cell_type": "code",
   "execution_count": 31,
   "metadata": {
    "colab": {
     "background_save": true
    },
    "id": "PeYJ4U4KP13a",
    "outputId": "dd1089dc-7ba0-46d5-8b98-78b1e9ee02be"
   },
   "outputs": [
    {
     "data": {
      "image/png": "[encoded data removed]",
      "text/plain": [
       "<Figure size 432x288 with 1 Axes>"
      ]
     },
     "metadata": {
      "needs_background": "light"
     },
     "output_type": "display_data"
    },
    {
     "name": "stdout",
     "output_type": "stream",
     "text": [
      "The vector length is:  25.80697580112788\n"
     ]
    }
   ],
   "source": [
    "# TODO: By using numpy array, please re-define your vector.\n",
    "v = \n",
    "\n",
    "# TODO: Multiply your previous vector with a scalar number\n",
    "v = \n",
    "\n",
    "# and we'll use a quiver plot to visualize it.\n",
    "origin = [0], [0]\n",
    "plt.axis('equal')\n",
    "plt.grid()\n",
    "plt.ticklabel_format(style='sci', axis='both', scilimits=(0,0))\n",
    "plt.quiver(*origin, *v, scale=10, color='r')\n",
    "plt.show()\n",
    "\n",
    "# TODO: Compute the vector length\n",
    "vMag = \n",
    "print('The vector length is: ', vMag)"
   ]
  },
  {
   "cell_type": "markdown",
   "metadata": {
    "id": "lGEN8cQ8Vjqw"
   },
   "source": [
    "#### 1.2.2 Addition, Substraction, and Transpose"
   ]
  },
  {
   "cell_type": "markdown",
   "metadata": {
    "id": "GMlYhirjV68U"
   },
   "source": [
    "Implement matrix addition and substraction."
   ]
  },
  {
   "cell_type": "code",
   "execution_count": null,
   "metadata": {
    "id": "f0ps65DXWKXa"
   },
   "outputs": [],
   "source": [
    "import numpy as np\n",
    "\n",
    "# TODO: Implement matrix addition and substraction here:\n",
    "A = np.array([[1,2,3],\n",
    "              [4,5,6]])\n",
    "B = np.array([[6,5,4],\n",
    "              [3,2,1]])\n",
    "print() # additzion\n",
    "print() # substraction"
   ]
  },
  {
   "cell_type": "markdown",
   "metadata": {
    "id": "Yh9-QVLvW0S2"
   },
   "source": [
    "Now implement matrix transpose."
   ]
  },
  {
   "cell_type": "code",
   "execution_count": 44,
   "metadata": {
    "id": "Kbns87PNXWHs"
   },
   "outputs": [
    {
     "name": "stdout",
     "output_type": "stream",
     "text": [
      "Baris dan Kolom, 2 dan 3\n",
      "Bentuk matrix baru\n",
      "[[0 0]\n",
      " [0 0]\n",
      " [0 0]]\n",
      "Tanpa library NumPy :\n",
      "[[1 4]\n",
      " [2 5]\n",
      " [3 6]]\n",
      "Dengan library NumPy :\n",
      "[[1 4]\n",
      " [2 5]\n",
      " [3 6]]\n"
     ]
    }
   ],
   "source": [
    "import numpy as np\n",
    "\n",
    "A = np.array([[1,2,3],\n",
    "              [4,5,6]])\n",
    "# TODO: Implement the transpose of the above matrix\n",
    "print(z)"
   ]
  },
  {
   "cell_type": "markdown",
   "metadata": {
    "id": "7_7kYJS8RjII"
   },
   "source": [
    "#### 1.2.3 Dot Product"
   ]
  },
  {
   "cell_type": "markdown",
   "metadata": {
    "id": "Fje2665QQrll"
   },
   "source": [
    "Implement dot product between 2 vector by using numpy library."
   ]
  },
  {
   "cell_type": "code",
   "execution_count": null,
   "metadata": {
    "id": "IJjDNaklN2U5"
   },
   "outputs": [],
   "source": [
    "import numpy as np\n",
    "\n",
    "# TODO: Implement vector dot product using numpy\n",
    "v = np.array([2,1])\n",
    "s = np.array([-3,2])\n",
    "d = \n",
    "print('The dot product between vector v and s is: ', d)"
   ]
  },
  {
   "cell_type": "markdown",
   "metadata": {
    "id": "kVMlIEoaOeJs"
   },
   "source": [
    "Another way to perform dot product without numpy is by using operator @."
   ]
  },
  {
   "cell_type": "code",
   "execution_count": null,
   "metadata": {
    "id": "8PN2bO29N_FQ"
   },
   "outputs": [],
   "source": [
    "import numpy as np\n",
    "\n",
    "# TODO: Implement vector dot product using @ operator.\n",
    "v = np.array([2,1])\n",
    "s = np.array([-3,2])\n",
    "d = \n",
    "print('The dot product between vector v and s is: ', d)"
   ]
  },
  {
   "cell_type": "markdown",
   "metadata": {
    "id": "8UjuNYumStXo"
   },
   "source": [
    "Now, do exactly the same but with matrix. Please define your own matrix with numpy array."
   ]
  },
  {
   "cell_type": "code",
   "execution_count": null,
   "metadata": {
    "id": "n3qCKnWbS9Bm"
   },
   "outputs": [],
   "source": [
    "import numpy as np\n",
    "\n",
    "# TODO: Implement matrix dot product\n",
    "A = \n",
    "B = \n",
    "print() # using np.dot\n",
    "print() # using @"
   ]
  },
  {
   "cell_type": "markdown",
   "metadata": {
    "id": "Nfpn-EpvUPlM"
   },
   "source": [
    "Let's try to perform a dot product with identity matrix.\n"
   ]
  },
  {
   "cell_type": "code",
   "execution_count": null,
   "metadata": {
    "id": "uTzy7S5IUZGN"
   },
   "outputs": [],
   "source": [
    "import numpy as np\n",
    "\n",
    "# TODO: Implement matrix dot product\n",
    "A = np.array([[1,2,3],\n",
    "              [4,5,6],\n",
    "              [7,8,9]])\n",
    "B =  # Identity matrix here\n",
    "print()"
   ]
  },
  {
   "cell_type": "markdown",
   "metadata": {
    "id": "lRPA0cvHRII5"
   },
   "source": [
    "#### 1.2.4 Cross Product"
   ]
  },
  {
   "cell_type": "markdown",
   "metadata": {
    "id": "mI1pElopRNQ4"
   },
   "source": [
    "Implement cross product using numpy library."
   ]
  },
  {
   "cell_type": "code",
   "execution_count": 2,
   "metadata": {
    "id": "20Qck8flOW2G"
   },
   "outputs": [
    {
     "ename": "SyntaxError",
     "evalue": "invalid syntax (<ipython-input-2-74a5b0b25b71>, line 6)",
     "output_type": "error",
     "traceback": [
      "\u001b[1;36m  File \u001b[1;32m\"<ipython-input-2-74a5b0b25b71>\"\u001b[1;36m, line \u001b[1;32m6\u001b[0m\n\u001b[1;33m    r =\u001b[0m\n\u001b[1;37m        ^\u001b[0m\n\u001b[1;31mSyntaxError\u001b[0m\u001b[1;31m:\u001b[0m invalid syntax\n"
     ]
    }
   ],
   "source": [
    "import numpy as np\n",
    "\n",
    "# TODO: Implement cross dot product using numpy\n",
    "p = np.array([2,3,1])\n",
    "q = np.array([1,2,-2])\n",
    "r = \n",
    "print('The dot product between vector v and s is: ', r)"
   ]
  },
  {
   "cell_type": "markdown",
   "metadata": {
    "id": "7Iz4jqDSSnII"
   },
   "source": [
    "### 1.3 Inverse Matrix"
   ]
  },
  {
   "cell_type": "markdown",
   "metadata": {
    "id": "wlrzsZEMVc_7"
   },
   "source": [
    "Implement the inverse of the following matrix using numpy library (linalg.inv)."
   ]
  },
  {
   "cell_type": "code",
   "execution_count": null,
   "metadata": {
    "id": "nxdtN1unYGrz"
   },
   "outputs": [],
   "source": [
    "import numpy as np\n",
    "\n",
    "B = np.array([[6,2],\n",
    "              [1,2]])\n",
    "\n",
    "# TODO: Implement the inverse of the above array\n",
    "print()"
   ]
  },
  {
   "cell_type": "markdown",
   "metadata": {
    "id": "2JZ6Amp-Zhwy"
   },
   "source": [
    "Now, try to multiply the inverse of a matrix with another matrix.\n",
    "\n",
    "**Question**:\n",
    "*   Is the order of multiplication important here? Does $A.B^{-1}$ generate the same result with $B^{-1}.A$?\n"
   ]
  },
  {
   "cell_type": "code",
   "execution_count": null,
   "metadata": {
    "id": "FlWakypuY_nQ"
   },
   "outputs": [],
   "source": [
    "import numpy as np\n",
    "\n",
    "A = np.array([[1,2],\n",
    "              [3,4]])\n",
    "\n",
    "B = np.array([[6,2],\n",
    "              [1,2]])\n",
    "\n",
    "# TODO: Multiply the inverse of B with A\n",
    "C = \n",
    "\n",
    "print(C)"
   ]
  },
  {
   "cell_type": "markdown",
   "metadata": {
    "id": "Xrwr_gMdzBe4"
   },
   "source": [
    "This is an example of how math equation in a paper is implemented in Python.\n",
    "\n",
    "The equation is taken from Equations (8)-(10) in the following paper:\n",
    "\n",
    "[Muhamad Risqi U. Saputra, et. al., \"Distilling Knowledge From a Deep Pose Regressor Network\", IEEE/CVF ICCV 2019.](https://openaccess.thecvf.com/content_ICCV_2019/papers/Saputra_Distilling_Knowledge_From_a_Deep_Pose_Regressor_Network_ICCV_2019_paper.pdf)"
   ]
  },
  {
   "cell_type": "code",
   "execution_count": null,
   "metadata": {
    "id": "VZyBz7vdz-Pj"
   },
   "outputs": [],
   "source": [
    "from keras import backend as K\n",
    "import tensorflow as tf\n",
    "\n",
    "# Attentive loss for translation\n",
    "def trans_AIL(y_true, y_pred):\n",
    "    hard_label = y_true[:, :, 0:3]\n",
    "    soft_label = y_true[:, :, 3:6]\n",
    "\n",
    "    lower_bound = 0.52132207277 # inverse normalization factor (1/1.9182)=0.52132207277\n",
    "    teacher_error_gt = K.square(soft_label - hard_label)\n",
    "    soft_weight = tf.subtract(tf.ones_like(teacher_error_gt), tf.multiply(teacher_error_gt, lower_bound))\n",
    "\n",
    "    hard_weight = 1\n",
    "    hard_loss = K.square(y_pred - hard_label)\n",
    "    soft_loss = K.square(y_pred - soft_label)\n",
    "\n",
    "    L_final = K.mean(((hard_weight * hard_loss) + (soft_weight * soft_loss)),axis=-1)\n",
    "\n",
    "    return L_final\n",
    "\n",
    "# Attentive loss for rotation\n",
    "def rot_AIL(y_true, y_pred):\n",
    "    hard_label = y_true[:, :, 0:3]\n",
    "    soft_label = y_true[:, :, 3:6]\n",
    "\n",
    "    lower_bound = 0.22953679474 # inverse normalization factor (1/4.3566)=0.22953679474\n",
    "    teacher_error_gt = K.square(soft_label - hard_label)\n",
    "    soft_weight = tf.subtract(tf.ones_like(teacher_error_gt), tf.multiply(teacher_error_gt, lower_bound))\n",
    "\n",
    "    hard_weight = 1\n",
    "    hard_loss = K.square(y_pred - hard_label)\n",
    "    soft_loss = K.square(y_pred - soft_label)\n",
    "\n",
    "    L_final = K.mean(((hard_weight * hard_loss) + (soft_weight * soft_loss)), axis=-1)\n",
    "\n",
    "    return L_final"
   ]
  },
  {
   "cell_type": "markdown",
   "metadata": {
    "id": "d4FLFA_W2JLz"
   },
   "source": [
    "This is another example taken from Equation (5) in the following paper:\n",
    "\n",
    "[Muhamad Risqi U. Saputra, et. al., \"DeepTIO: A Deep Thermal-Inertial Odometry with Visual Hallucination\", IEEE RA-L 2020.](https://arxiv.org/pdf/1909.07231.pdf)"
   ]
  },
  {
   "cell_type": "code",
   "execution_count": null,
   "metadata": {
    "id": "rqZ8_IUD2vNw"
   },
   "outputs": [],
   "source": [
    "from keras import backend as K\n",
    "import tensorflow as tf\n",
    "\n",
    "def huber_loss(y_true, y_pred, clip_delta=1.0):\n",
    "  error = y_true - y_pred\n",
    "  cond  = tf.keras.backend.abs(error) < clip_delta\n",
    "\n",
    "  squared_loss = 0.5 * tf.keras.backend.square(error)\n",
    "  linear_loss  = clip_delta * (tf.keras.backend.abs(error) - 0.5 * clip_delta)\n",
    "\n",
    "  return tf.where(cond, squared_loss, linear_loss)\n",
    "\n",
    "def huber_loss_mean(y_true, y_pred, clip_delta=1.0):\n",
    "  return tf.keras.backend.mean(huber_loss(y_true, y_pred, clip_delta))"
   ]
  },
  {
   "cell_type": "markdown",
   "metadata": {
    "id": "IDetN3vX297b"
   },
   "source": [
    "**Final task**: Please try to convert a math equation from your favorite paper into python! :)\n",
    "\n",
    "\n",
    "---\n",
    "\n"
   ]
  }
 ],
 "metadata": {
  "colab": {
   "collapsed_sections": [
    "mLv75g4kQS8G",
    "7Iz4jqDSSnII",
    "1yqYjwXKPRQ6",
    "Nx-y4RzSR7go",
    "6dhgCtQlZeW1"
   ],
   "provenance": [],
   "toc_visible": true
  },
  "kernelspec": {
   "display_name": "Python 3",
   "language": "python",
   "name": "python3"
  },
  "language_info": {
   "codemirror_mode": {
    "name": "ipython",
    "version": 3
   },
   "file_extension": ".py",
   "mimetype": "text/x-python",
   "name": "python",
   "nbconvert_exporter": "python",
   "pygments_lexer": "ipython3",
   "version": "3.8.3"
  }
 },
 "nbformat": 4,
 "nbformat_minor": 1
}
