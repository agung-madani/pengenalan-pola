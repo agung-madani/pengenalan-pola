{
 "cells": [
  {
   "cell_type": "markdown",
   "metadata": {},
   "source": [
    "**Nama    : Agung Rashif Madani**\n",
    "\n",
    "**NIM     : 20106050083**"
   ]
  },
  {
   "cell_type": "markdown",
   "metadata": {},
   "source": [
    "### 1.1 Vector, its Length and Direction\n",
    "First, define your vector with positive value in both axes and plot it using the following code. Then, compute the vector magnitude/length and direction using the following equation:\n",
    "\n",
    "$|v| = \\sqrt[2]{v_1^{2} + v_2^{2}}$ \n",
    "\n",
    "$deg = tan^{-1}(v_2/v_1)$"
   ]
  },
  {
   "cell_type": "code",
   "execution_count": 52,
   "metadata": {},
   "outputs": [
    {
     "data": {
      "image/png": "[encoded data removed]",
      "text/plain": [
       "<Figure size 432x288 with 1 Axes>"
      ]
     },
     "metadata": {
      "needs_background": "light"
     },
     "output_type": "display_data"
    },
    {
     "name": "stdout",
     "output_type": "stream",
     "text": [
      "The vector length is TANPA Library NumPy:  5.0\n",
      "The vector length is DENGAN Library NumPy:  5.0\n",
      "The vector direction (inverse tangent) is = 306.86989764584405 degree.\n"
     ]
    }
   ],
   "source": [
    "%matplotlib inline\n",
    "\n",
    "import numpy as np\n",
    "import matplotlib.pyplot as plt\n",
    "import math\n",
    "\n",
    "# TODO: By using numpy array, please define your vector.\n",
    "v = np.array([3, -4])                           # Mendefinisikan vektor\n",
    "v1 = v[0]                                      # Mendeklarasikan v1 sebagai v[0] dan v2 sebagai v[1]\n",
    "v2 = v[1]\n",
    "\n",
    "origin = [0], [0]\n",
    "plt.axis('equal')\n",
    "plt.grid()\n",
    "plt.ticklabel_format(style='sci', axis='both', scilimits=(0,0))\n",
    "plt.quiver(*origin, *v, scale=10, color='r')\n",
    "plt.show()\n",
    "\n",
    "# TODO: Compute the vector length\n",
    "\n",
    "vMag = math.sqrt(v1**2 + v2**2)                # Tanpa menggunakan library NumPy, sesuai dengan rumus jarak pada vektor di atas\n",
    "                                               # yang sudah disebutkan, dengan menggunakan math.sqrt untuk akar, **2 untuk\n",
    "                                               # kuadrat\n",
    "    \n",
    "print('The vector length is TANPA Library NumPy: ', vMag)\n",
    "print('The vector length is DENGAN Library NumPy: ', np.linalg.norm(v))\n",
    "\n",
    "# TODO: Compute the vector direction\n",
    "\n",
    "if v1 != 0:                                  # Penangan jika v1 sama dengan nol,maka diganti dengan infinite karena tan 90\n",
    "    vTan = v2 / v1                             # menghasilkan infinite\n",
    "else:\n",
    "    if v2 > 0:\n",
    "        vTan = math.inf\n",
    "    elif v2 == 0:\n",
    "        vTan = 0\n",
    "    else:\n",
    "        vTan = -math.inf\n",
    "    \n",
    "vAtan = math.atan(vTan)\n",
    "# atan returns the angle in radians, so convert to degrees\n",
    "if v1 >= 0 and v2 >= 0:\n",
    "    print('The vector direction (inverse tangent) is = ' + str(math.degrees(vAtan)) + ' degree.')\n",
    "elif v1 >= 0 and v2 < 0:\n",
    "    print('The vector direction (inverse tangent) is = ' + str(math.degrees(vAtan)+360) + ' degree.')\n",
    "elif v1 < 0 and v2 >= 0:\n",
    "    print('The vector direction (inverse tangent) is = ' + str(math.degrees(vAtan)+180) + ' degree.')\n",
    "else:\n",
    "    print('The vector direction (inverse tangent) is = ' + str(180+math.degrees(vAtan)) + ' degree.')"
   ]
  },
  {
   "cell_type": "markdown",
   "metadata": {},
   "source": [
    "### 1.2 Vector and Matrix Operation\n",
    "#### 1.2.1 Scalar Multiplication\n",
    "Given the vector you define in the previous section, multiply your vector with a scalar number (e.g, 2, 3), and re-compute again the vector length/magnitude.\n",
    "\n",
    "**Question**:\n",
    "*   What happen when you multiply with a negative scalar number? \n",
    "\n",
    "**Jawaban**:\n",
    "*   Hasilnya akan sama dengan perkalian terhadap positif skalar"
   ]
  },
  {
   "cell_type": "code",
   "execution_count": 56,
   "metadata": {},
   "outputs": [
    {
     "data": {
      "image/png": "[encoded data removed]",
      "text/plain": [
       "<Figure size 432x288 with 1 Axes>"
      ]
     },
     "metadata": {
      "needs_background": "light"
     },
     "output_type": "display_data"
    },
    {
     "name": "stdout",
     "output_type": "stream",
     "text": [
      "The vector length is TANPA Library NumPy:  108.16653826391968\n",
      "The vector length is DENGAN Library NumPy:  108.16653826391968\n"
     ]
    }
   ],
   "source": [
    "# TODO: By using numpy array, please re-define your vector.\n",
    "\n",
    "\n",
    "v = np.array([30,20])                            # Mendefinisikan vektor\n",
    "\n",
    "\n",
    "# TODO: Multiply your previous vector with a scalar number\n",
    "\n",
    "\n",
    "scalar = 3                                     # Mendeklarasikan nilai Skalar\n",
    "v = v * scalar                                 # Mengkalikan nilai vektor dengan skalar\n",
    "v1 = v[0]                                      # Mendeklarasikan v1 sebagai v[0] dan v2 sebagai v[1]\n",
    "v2 = v[1]\n",
    "\n",
    "\n",
    "# and we'll use a quiver plot to visualize it.\n",
    "origin = [0], [0]\n",
    "plt.axis('equal')\n",
    "plt.grid()\n",
    "plt.ticklabel_format(style='sci', axis='both', scilimits=(0,0))\n",
    "plt.quiver(*origin, *v, scale=10, color='g')\n",
    "plt.show()\n",
    "\n",
    "# TODO: Compute the vector length\n",
    "\n",
    "\n",
    "vMag = math.sqrt(v1**2 + v2**2)                # Tanpa menggunakan library NumPy, sesuai dengan rumus jarak pada vektor di atas\n",
    "                                               # yang sudah disebutkan, dengan menggunakan math.sqrt untuk akar, **2 untuk\n",
    "                                               # kuadrat\n",
    "print('The vector length is TANPA Library NumPy: ', vMag)\n",
    "print('The vector length is DENGAN Library NumPy: ', np.linalg.norm(v))"
   ]
  },
  {
   "cell_type": "code",
   "execution_count": 57,
   "metadata": {},
   "outputs": [
    {
     "data": {
      "image/png": "[encoded data removed]",
      "text/plain": [
       "<Figure size 432x288 with 1 Axes>"
      ]
     },
     "metadata": {
      "needs_background": "light"
     },
     "output_type": "display_data"
    },
    {
     "name": "stdout",
     "output_type": "stream",
     "text": [
      "The vector length is TANPA Library NumPy:  108.16653826391968\n",
      "The vector length is DENGAN Library NumPy:  108.16653826391968\n"
     ]
    }
   ],
   "source": [
    "# TODO: By using numpy array, please re-define your vector.\n",
    "\n",
    "\n",
    "v = np.array([30,20])                            # Mendefinisikan vektor\n",
    "\n",
    "\n",
    "# TODO: Multiply your previous vector with a scalar number\n",
    "\n",
    "\n",
    "scalar = -3                                     # Mendeklarasikan nilai Skalar\n",
    "v = v * scalar                                 # Mengkalikan nilai vektor dengan skalar\n",
    "v1 = v[0]                                      # Mendeklarasikan v1 sebagai v[0] dan v2 sebagai v[1]\n",
    "v2 = v[1]\n",
    "\n",
    "\n",
    "# and we'll use a quiver plot to visualize it.\n",
    "origin = [0], [0]\n",
    "plt.axis('equal')\n",
    "plt.grid()\n",
    "plt.ticklabel_format(style='sci', axis='both', scilimits=(0,0))\n",
    "plt.quiver(*origin, *v, scale=10, color='g')\n",
    "plt.show()\n",
    "\n",
    "# TODO: Compute the vector length\n",
    "\n",
    "\n",
    "vMag = math.sqrt(v1**2 + v2**2)                # Tanpa menggunakan library NumPy, sesuai dengan rumus jarak pada vektor di atas\n",
    "                                               # yang sudah disebutkan, dengan menggunakan math.sqrt untuk akar, **2 untuk\n",
    "                                               # kuadrat\n",
    "print('The vector length is TANPA Library NumPy: ', vMag)\n",
    "print('The vector length is DENGAN Library NumPy: ', np.linalg.norm(v))"
   ]
  },
  {
   "cell_type": "markdown",
   "metadata": {},
   "source": [
    "#### 1.2.2 Addition, Substraction, and Transpose\n",
    "Implement matrix addition and substraction."
   ]
  },
  {
   "cell_type": "code",
   "execution_count": 55,
   "metadata": {},
   "outputs": [
    {
     "name": "stdout",
     "output_type": "stream",
     "text": [
      "[[7 7 7]\n",
      " [7 7 7]]\n",
      "[[-5 -3 -1]\n",
      " [ 1  3  5]]\n"
     ]
    }
   ],
   "source": [
    "import numpy as np\n",
    "\n",
    "# TODO: Implement matrix addition and substraction here:\n",
    "A = np.array([[1,2,3],\n",
    "              [4,5,6]])\n",
    "B = np.array([[6,5,4],\n",
    "              [3,2,1]])\n",
    "print(A + B)                               # + penjumlahan A dan B\n",
    "\n",
    "print(A - B)                               # - pengurangan A terhadap B"
   ]
  },
  {
   "cell_type": "markdown",
   "metadata": {},
   "source": [
    "Now implement matrix transpose."
   ]
  },
  {
   "cell_type": "code",
   "execution_count": 40,
   "metadata": {},
   "outputs": [
    {
     "name": "stdout",
     "output_type": "stream",
     "text": [
      "Baris dan Kolom, 2 dan 3\n",
      "Bentuk matrix baru\n",
      "[[0 0]\n",
      " [0 0]\n",
      " [0 0]]\n",
      "Tanpa library NumPy :\n",
      "[[1 4]\n",
      " [2 5]\n",
      " [3 6]]\n",
      "Dengan library NumPy :\n",
      "[[1 4]\n",
      " [2 5]\n",
      " [3 6]]\n"
     ]
    }
   ],
   "source": [
    "import numpy as np\n",
    "\n",
    "A = np.array([[1,2,3],\n",
    "              [4,5,6]])\n",
    "# TODO: Implement the transpose of the above matrix\n",
    "\n",
    "\n",
    "                                               # Berikut transpose tanpa library NumPy\n",
    "nRows = len(A)                                 # Mendefinisikan Panjang baris dan kolom matrix di atas\n",
    "nCols = len(A[0])\n",
    "print(f\"Baris dan Kolom, {nRows} dan {nCols}\")\n",
    "\n",
    "AT = [[0 for x in range(nRows)] for y in range(nCols)] # Menginisiasi wadah matrix baru hasil transpose jadi 2 baris dan 3 kolom\n",
    "print(f'Bentuk matrix baru\\n{np.array(AT)}')\n",
    "\n",
    "for i in range(nRows):                         # Perhitungan transpose A\n",
    "    for j in range(nCols):\n",
    "        AT[j][i] = A[i][j]\n",
    "\n",
    "print(f'Tanpa library NumPy :\\n{np.array(AT)}') \n",
    "print(f'Dengan library NumPy :\\n{A.transpose()}')"
   ]
  },
  {
   "cell_type": "markdown",
   "metadata": {},
   "source": [
    "#### 1.2.3 Dot Product\n",
    "Implement dot product between 2 vector by using numpy library."
   ]
  },
  {
   "cell_type": "code",
   "execution_count": 9,
   "metadata": {
    "scrolled": true
   },
   "outputs": [
    {
     "name": "stdout",
     "output_type": "stream",
     "text": [
      "The dot product between vector v and s is: -4\n"
     ]
    }
   ],
   "source": [
    "import numpy as np\n",
    "\n",
    "# TODO: Implement vector dot product using numpy\n",
    "v = np.array([2,1])\n",
    "s = np.array([-3,2])\n",
    "\n",
    "d = np.dot(v, s)                                         # Menghitung dengan NumPy sesuai petunjuk\n",
    "print('The dot product between vector v and s is:', d)\n"
   ]
  },
  {
   "cell_type": "markdown",
   "metadata": {},
   "source": [
    "Another way to perform dot product without numpy is by using operator @."
   ]
  },
  {
   "cell_type": "code",
   "execution_count": 10,
   "metadata": {},
   "outputs": [
    {
     "name": "stdout",
     "output_type": "stream",
     "text": [
      "The dot product between vector v and s is: -4\n"
     ]
    }
   ],
   "source": [
    "import numpy as np\n",
    "# TODO: Implement vector dot product using @ operator.\n",
    "v = np.array([2,1])\n",
    "s = np.array([-3,2])\n",
    "\n",
    "d = v @ s                                                # Menghitung dengan @ Operator sesuai petunjuk\n",
    "print('The dot product between vector v and s is:', d)"
   ]
  },
  {
   "cell_type": "markdown",
   "metadata": {},
   "source": [
    "Now, do exactly the same but with matrix. Please define your own matrix with numpy array."
   ]
  },
  {
   "cell_type": "code",
   "execution_count": 43,
   "metadata": {},
   "outputs": [
    {
     "name": "stdout",
     "output_type": "stream",
     "text": [
      "[[41 47]\n",
      " [15 27]]\n",
      "[[41 47]\n",
      " [15 27]]\n"
     ]
    }
   ],
   "source": [
    "import numpy as np\n",
    "\n",
    "# TODO: Implement matrix dot product\n",
    "A = np.array([[2,7,4],\n",
    "              [3,3,0]])\n",
    "B = np.array([[2,4],\n",
    "              [3,5],\n",
    "              [4,1]])\n",
    "\n",
    "print(np.dot(A,B))                  # menggunakan np.dot\n",
    "print(A @ B)                        # menggunakan @"
   ]
  },
  {
   "cell_type": "markdown",
   "metadata": {},
   "source": [
    "Let's try to perform a dot product with identity matrix."
   ]
  },
  {
   "cell_type": "code",
   "execution_count": 20,
   "metadata": {},
   "outputs": [
    {
     "name": "stdout",
     "output_type": "stream",
     "text": [
      "The dot product between vector v and s is:\n",
      " [[1 2 3]\n",
      " [4 5 6]\n",
      " [7 8 9]]\n"
     ]
    }
   ],
   "source": [
    "import numpy as np\n",
    "\n",
    "# TODO: Implement matrix dot product\n",
    "A = np.array([[1,2,3],\n",
    "              [4,5,6],\n",
    "              [7,8,9]])\n",
    "B = np.array([[1,0,0],                      # Matrix Identitas\n",
    "              [0,1,0],\n",
    "              [0,0,1]])\n",
    "\n",
    "C = np.dot(A, B)  # atau C = A @ B          # Perhitungan dot product Matriks A dengan Matriks B sebagai Matriks Identitas\n",
    "\n",
    "print('The dot product between vector v and s is:\\n', C)"
   ]
  },
  {
   "cell_type": "markdown",
   "metadata": {},
   "source": [
    "#### 1.2.4 Cross Product\n",
    "Implement cross product using numpy library."
   ]
  },
  {
   "cell_type": "code",
   "execution_count": 21,
   "metadata": {},
   "outputs": [
    {
     "name": "stdout",
     "output_type": "stream",
     "text": [
      "The dot product between vector v and s is:  [-8  5  1]\n"
     ]
    }
   ],
   "source": [
    "import numpy as np\n",
    "\n",
    "# TODO: Implement cross dot product using numpy\n",
    "p = np.array([2,3,1])\n",
    "q = np.array([1,2,-2])\n",
    "\n",
    "r = np.cross(p, q)                                 # Perhitungan dengan NumPy library sesuai petunjuk\n",
    "\n",
    "print('The dot product between vector v and s is: ', r)"
   ]
  },
  {
   "cell_type": "markdown",
   "metadata": {},
   "source": [
    "### 1.3 Inverse Matrix\n",
    "Implement the inverse of the following matrix using numpy library (linalg.inv)."
   ]
  },
  {
   "cell_type": "code",
   "execution_count": 23,
   "metadata": {},
   "outputs": [
    {
     "name": "stdout",
     "output_type": "stream",
     "text": [
      "[[ 0.2 -0.2]\n",
      " [-0.1  0.6]]\n"
     ]
    }
   ],
   "source": [
    "import numpy as np\n",
    "\n",
    "B = np.array([[6,2],\n",
    "              [1,2]])\n",
    "\n",
    "# TODO: Implement the inverse of the above array\n",
    "print(np.linalg.inv(B))                           # Perhitungan Inverse Matrix dengan Library NumPy sesuai petunjuk"
   ]
  },
  {
   "cell_type": "markdown",
   "metadata": {},
   "source": [
    "Now, try to multiply the inverse of a matrix with another matrix.\n",
    "\n",
    "**Question**:\n",
    "*   Is the order of multiplication important here? Does $A.B^{-1}$ generate the same result with $B^{-1}.A$?\n",
    "\n",
    "**Jawaban**:\n",
    "*   Hasilnya akan sama"
   ]
  },
  {
   "cell_type": "code",
   "execution_count": 29,
   "metadata": {},
   "outputs": [
    {
     "name": "stdout",
     "output_type": "stream",
     "text": [
      "[[ 0.2 -0.4]\n",
      " [-0.3  2.4]]\n",
      "[[ 0.2 -0.4]\n",
      " [-0.3  2.4]]\n"
     ]
    }
   ],
   "source": [
    "import numpy as np\n",
    "\n",
    "A = np.array([[1,2],\n",
    "              [3,4]])\n",
    "\n",
    "B = np.array([[6,2],\n",
    "              [1,2]])\n",
    "\n",
    "# TODO: Multiply the inverse of B with A\n",
    "C = (np.linalg.inv(B) * A)\n",
    "C2 = (A * np.linalg.inv(B))\n",
    "\n",
    "print(C)\n",
    "print(C2)"
   ]
  }
 ],
 "metadata": {
  "kernelspec": {
   "display_name": "Python 3",
   "language": "python",
   "name": "python3"
  },
  "language_info": {
   "codemirror_mode": {
    "name": "ipython",
    "version": 3
   },
   "file_extension": ".py",
   "mimetype": "text/x-python",
   "name": "python",
   "nbconvert_exporter": "python",
   "pygments_lexer": "ipython3",
   "version": "3.8.3"
  }
 },
 "nbformat": 4,
 "nbformat_minor": 4
}
